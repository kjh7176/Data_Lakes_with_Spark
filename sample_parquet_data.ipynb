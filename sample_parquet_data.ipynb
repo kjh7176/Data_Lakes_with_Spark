{
 "cells": [
  {
   "cell_type": "code",
   "execution_count": 16,
   "metadata": {},
   "outputs": [
    {
     "data": {
      "application/vnd.jupyter.widget-view+json": {
       "model_id": "d24c693e287e4a1899bb4403e49c7588",
       "version_major": 2,
       "version_minor": 0
      },
      "text/plain": [
       "VBox()"
      ]
     },
     "metadata": {},
     "output_type": "display_data"
    },
    {
     "data": {
      "application/vnd.jupyter.widget-view+json": {
       "model_id": "",
       "version_major": 2,
       "version_minor": 0
      },
      "text/plain": [
       "FloatProgress(value=0.0, bar_style='info', description='Progress:', layout=Layout(height='25px', width='50%'),…"
      ]
     },
     "metadata": {},
     "output_type": "display_data"
    },
    {
     "name": "stdout",
     "output_type": "stream",
     "text": [
      "+------------------+--------------------+---------+----+------------------+\n",
      "|           song_id|               title| duration|year|         artist_id|\n",
      "+------------------+--------------------+---------+----+------------------+\n",
      "|SODUMDU12AC468A22B|We're Skrewed (Ot...| 249.5473|   0|ARHOSMU1242078130D|\n",
      "|SOTCIHX12A8C13DDD2|Finally_ as that ...|483.34322|2006|ARYOIZG1187FB41E30|\n",
      "|SOPSXLI12A6D4FA418|Practical Cats - ...|251.03628|   0|ARR79V31187FB5B96E|\n",
      "|SOUFBFK12A8C13D668|String Quartets O...|348.60363|   0|ARAILTA11F4C840A06|\n",
      "|SOROAMT12A8C13C6D0|Me gustan mas los...|101.85098|2008|ARWUDTF1187B9AA096|\n",
      "+------------------+--------------------+---------+----+------------------+\n",
      "only showing top 5 rows"
     ]
    }
   ],
   "source": [
    "song_df = spark.read.parquet(\"hdfs:///user/hadoop/songs\")\n",
    "song_df.show(5)"
   ]
  },
  {
   "cell_type": "code",
   "execution_count": 17,
   "metadata": {},
   "outputs": [
    {
     "data": {
      "application/vnd.jupyter.widget-view+json": {
       "model_id": "6540d892054a483a81b0c01dceb79dbf",
       "version_major": 2,
       "version_minor": 0
      },
      "text/plain": [
       "VBox()"
      ]
     },
     "metadata": {},
     "output_type": "display_data"
    },
    {
     "data": {
      "application/vnd.jupyter.widget-view+json": {
       "model_id": "",
       "version_major": 2,
       "version_minor": 0
      },
      "text/plain": [
       "FloatProgress(value=0.0, bar_style='info', description='Progress:', layout=Layout(height='25px', width='50%'),…"
      ]
     },
     "metadata": {},
     "output_type": "display_data"
    },
    {
     "name": "stdout",
     "output_type": "stream",
     "text": [
      "+------------------+--------------------+--------------------+--------+---------+\n",
      "|         artist_id|                name|            location|latitude|longitude|\n",
      "+------------------+--------------------+--------------------+--------+---------+\n",
      "|ARWMEJW11F4C83C123|Dmitri Shostakovi...|St. Petersburg, R...|59.93274| 30.30672|\n",
      "|ARGIABO1187FB4B3B5|       Ronnie Milsap|    Robbinsville, NC|35.32689|-83.80489|\n",
      "|ARAQMES1187FB4D46A|Benzino / The Out...|I AM DA BEAN!!! Y...|28.64334|-81.23258|\n",
      "|ARGR7431187FB3F3FB|     Jacques Higelin|Brou-sur-Chantere...|48.88314|  2.62879|\n",
      "|ARKYJU11187B98A56C|       Tony Williams|         Chicago, IL|41.88415|-87.63241|\n",
      "+------------------+--------------------+--------------------+--------+---------+\n",
      "only showing top 5 rows"
     ]
    }
   ],
   "source": [
    "artist_df = spark.read.parquet(\"hdfs:///user/hadoop/artists\")\n",
    "artist_df.show(5)"
   ]
  },
  {
   "cell_type": "code",
   "execution_count": 19,
   "metadata": {},
   "outputs": [
    {
     "data": {
      "application/vnd.jupyter.widget-view+json": {
       "model_id": "b8213b551263422f89396057d59cd478",
       "version_major": 2,
       "version_minor": 0
      },
      "text/plain": [
       "VBox()"
      ]
     },
     "metadata": {},
     "output_type": "display_data"
    },
    {
     "data": {
      "application/vnd.jupyter.widget-view+json": {
       "model_id": "",
       "version_major": 2,
       "version_minor": 0
      },
      "text/plain": [
       "FloatProgress(value=0.0, bar_style='info', description='Progress:', layout=Layout(height='25px', width='50%'),…"
      ]
     },
     "metadata": {},
     "output_type": "display_data"
    },
    {
     "name": "stdout",
     "output_type": "stream",
     "text": [
      "+-------+----------+---------+------+-----+\n",
      "|user_id|first_name|last_name|gender|level|\n",
      "+-------+----------+---------+------+-----+\n",
      "|     74|    Braden|   Parker|     M| free|\n",
      "|    100|     Adler|  Barrera|     M| free|\n",
      "|     85|   Kinsley|    Young|     F| paid|\n",
      "|     85|   Kinsley|    Young|     F| free|\n",
      "|     42|    Harper|  Barrett|     M| paid|\n",
      "+-------+----------+---------+------+-----+\n",
      "only showing top 5 rows"
     ]
    }
   ],
   "source": [
    "user_df = spark.read.parquet(\"hdfs:///user/hadoop/users\")\n",
    "user_df.show(5)"
   ]
  },
  {
   "cell_type": "code",
   "execution_count": 20,
   "metadata": {},
   "outputs": [
    {
     "data": {
      "application/vnd.jupyter.widget-view+json": {
       "model_id": "95aac05568e8457792f0abe276c1e259",
       "version_major": 2,
       "version_minor": 0
      },
      "text/plain": [
       "VBox()"
      ]
     },
     "metadata": {},
     "output_type": "display_data"
    },
    {
     "data": {
      "application/vnd.jupyter.widget-view+json": {
       "model_id": "",
       "version_major": 2,
       "version_minor": 0
      },
      "text/plain": [
       "FloatProgress(value=0.0, bar_style='info', description='Progress:', layout=Layout(height='25px', width='50%'),…"
      ]
     },
     "metadata": {},
     "output_type": "display_data"
    },
    {
     "name": "stdout",
     "output_type": "stream",
     "text": [
      "+-------------------+----+---+----------+-----+----+-------+\n",
      "|         start_time|hour|day|weekofyear|month|year|weekday|\n",
      "+-------------------+----+---+----------+-----+----+-------+\n",
      "|2018-11-15 10:48:15|  10| 15|        46|   11|2018|      5|\n",
      "|2018-11-15 14:06:18|  14| 15|        46|   11|2018|      5|\n",
      "|2018-11-14 23:14:07|  23| 14|        46|   11|2018|      4|\n",
      "|2018-11-28 16:17:54|  16| 28|        48|   11|2018|      4|\n",
      "|2018-11-15 16:55:31|  16| 15|        46|   11|2018|      5|\n",
      "+-------------------+----+---+----------+-----+----+-------+\n",
      "only showing top 5 rows"
     ]
    }
   ],
   "source": [
    "time_df = spark.read.parquet(\"hdfs:///user/hadoop/time\")\n",
    "time_df.show(5)"
   ]
  },
  {
   "cell_type": "code",
   "execution_count": 18,
   "metadata": {},
   "outputs": [
    {
     "data": {
      "application/vnd.jupyter.widget-view+json": {
       "model_id": "8af0084fcff74b42b91ed2672d6078b0",
       "version_major": 2,
       "version_minor": 0
      },
      "text/plain": [
       "VBox()"
      ]
     },
     "metadata": {},
     "output_type": "display_data"
    },
    {
     "data": {
      "application/vnd.jupyter.widget-view+json": {
       "model_id": "",
       "version_major": 2,
       "version_minor": 0
      },
      "text/plain": [
       "FloatProgress(value=0.0, bar_style='info', description='Progress:', layout=Layout(height='25px', width='50%'),…"
      ]
     },
     "metadata": {},
     "output_type": "display_data"
    },
    {
     "name": "stdout",
     "output_type": "stream",
     "text": [
      "+-------------------+-------+-----+------------------+------------------+----------+--------------------+--------------------+----+-----+\n",
      "|         start_time|user_id|level|           song_id|         artist_id|session_id|            location|          user_agent|year|month|\n",
      "+-------------------+-------+-----+------------------+------------------+----------+--------------------+--------------------+----+-----+\n",
      "|2018-11-14 12:56:28|     62| free|SOHTKMO12AB01843B0|AR5EYTL1187B98EDA0|       476|Houston-The Woodl...|\"Mozilla/5.0 (Mac...|2018|   11|\n",
      "|2018-11-05 02:09:47|     44| paid|SOUNZHU12A8AE47481|AR37SX11187FB3E164|       237|Waterloo-Cedar Fa...|Mozilla/5.0 (Maci...|2018|   11|\n",
      "|2018-11-05 15:31:19|     24| paid|SOBONKR12A58A7A7E0|AR5E44Z1187B9A1D74|        23|Lake Havasu City-...|\"Mozilla/5.0 (Win...|2018|   11|\n",
      "|2018-11-04 15:39:36|     78| free|SOBONKR12A58A7A7E0|AR5E44Z1187B9A1D74|       176|Indianapolis-Carm...|Mozilla/5.0 (Wind...|2018|   11|\n",
      "|2018-11-01 21:11:13|      8| free|SOEIQUY12AF72A086A|ARHUC691187B9AD27F|       139|Phoenix-Mesa-Scot...|\"Mozilla/5.0 (Win...|2018|   11|\n",
      "+-------------------+-------+-----+------------------+------------------+----------+--------------------+--------------------+----+-----+\n",
      "only showing top 5 rows"
     ]
    }
   ],
   "source": [
    "songplays_df = spark.read.parquet(\"hdfs:///user/hadoop/songplays\")\n",
    "songplays_df.show(5)"
   ]
  },
  {
   "cell_type": "code",
   "execution_count": null,
   "metadata": {},
   "outputs": [],
   "source": []
  }
 ],
 "metadata": {
  "kernelspec": {
   "display_name": "PySpark",
   "language": "",
   "name": "pysparkkernel"
  },
  "language_info": {
   "codemirror_mode": {
    "name": "python",
    "version": 2
   },
   "mimetype": "text/x-python",
   "name": "pyspark",
   "pygments_lexer": "python2"
  }
 },
 "nbformat": 4,
 "nbformat_minor": 4
}
